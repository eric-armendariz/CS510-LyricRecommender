{
 "cells": [
  {
   "cell_type": "code",
   "execution_count": 1,
   "metadata": {},
   "outputs": [],
   "source": [
    "import pandas as pd\n",
    "import numpy as np\n",
    "import re\n",
    "import nltk\n",
    "from gensim.models import word2vec\n",
    "from sklearn.manifold import TSNE\n",
    "import matplotlib.pyplot as plt\n",
    "\n",
    "df = pd.read_csv(\"clean_song_data.csv\")"
   ]
  },
  {
   "cell_type": "code",
   "execution_count": 35,
   "metadata": {},
   "outputs": [],
   "source": [
    "#Ensure the lyrics col is in the same format: a string of ' ' separated words representing the lyrics of the song\n",
    "for idx, row in df['lyrics'].items():\n",
    "    if type(row) == tuple:\n",
    "        df['lyrics'][idx] = row[1]\n"
   ]
  },
  {
   "cell_type": "code",
   "execution_count": 36,
   "metadata": {},
   "outputs": [
    {
     "name": "stdout",
     "output_type": "stream",
     "text": [
      "0         i i i i i i the the the the you you to to and ...\n",
      "1         i i i i i i i i i i you you you you you you yo...\n",
      "2         i i i i i i i i i i i i i i i i i i i i i i i ...\n",
      "3         i i i i i the the the the you you you to to an...\n",
      "4         i i i i to to to to to and and and and and and...\n",
      "                                ...                        \n",
      "210121    a no no no no no no no no no que que que que q...\n",
      "210122    i the the the the the the the the the the the ...\n",
      "210123    i i i i i i i i i i i i i the the the you you ...\n",
      "210124    i i i i i i i i i i the the the the the the yo...\n",
      "210125    i i i i the the the the the the the the the th...\n",
      "Name: lyrics, Length: 210126, dtype: object\n"
     ]
    },
    {
     "name": "stderr",
     "output_type": "stream",
     "text": [
      "[nltk_data] Downloading package stopwords to\n",
      "[nltk_data]     C:\\Users\\souls\\AppData\\Roaming\\nltk_data...\n",
      "[nltk_data]   Package stopwords is already up-to-date!\n"
     ]
    },
    {
     "name": "stdout",
     "output_type": "stream",
     "text": [
      "0         someon understand pass river piec damn worth f...\n",
      "1         time time time feel feel day day day day away ...\n",
      "2         love love love love love love love love love l...\n",
      "3         feel eye world girl girl girl girl girl girl g...\n",
      "4         someth stay burn burn burn burn burn burn burn...\n",
      "                                ...                        \n",
      "210121    vida vida vida vida mÃ¡s mÃ¡s siempr tiempo tÃ...\n",
      "210122    time eye give dream head soul street street fo...\n",
      "210123    time back back back onli onli onli turn turn t...\n",
      "210124    away away away life life life onli onli mind m...\n",
      "210125    time time time make day day back eye caus gonn...\n",
      "Name: lyrics, Length: 210126, dtype: object\n"
     ]
    }
   ],
   "source": [
    "print(df['lyrics'])\n",
    "nltk.download('stopwords')\n",
    "\n",
    "stop_words = nltk.corpus.stopwords.words()\n",
    "\n",
    "def clean_string(lyrics):\n",
    "    words = lyrics.split(' ')\n",
    "    sb = []\n",
    "\n",
    "    for word in words:\n",
    "        if word not in stop_words:\n",
    "            sb.append(word)\n",
    "    return ' '.join(sb)\n",
    "\n",
    "def clean_dataset(df):\n",
    "    df['lyrics'] = df['lyrics'].apply(clean_string)\n",
    "    return df\n",
    "\n",
    "df = clean_dataset(df)\n",
    "print(df['lyrics'])"
   ]
  },
  {
   "cell_type": "code",
   "execution_count": 40,
   "metadata": {},
   "outputs": [],
   "source": [
    "df.to_csv('clean_song_data.csv')"
   ]
  },
  {
   "cell_type": "code",
   "execution_count": 4,
   "metadata": {},
   "outputs": [
    {
     "name": "stdout",
     "output_type": "stream",
     "text": [
      "(210126, 7)\n",
      "210126\n"
     ]
    }
   ],
   "source": [
    "print(df.shape)\n",
    "def get_word_vec(lyrics):\n",
    "    vector = []\n",
    "\n",
    "    for i, word in lyrics.items():\n",
    "        if (type(word) == str):\n",
    "            split_words = word.split(' ')\n",
    "            vector.append(split_words)\n",
    "        else:\n",
    "            vector.append([])\n",
    "    \n",
    "    return vector\n",
    "\n",
    "split_word_list = get_word_vec(df['lyrics'])\n",
    "print(len(split_word_list))"
   ]
  },
  {
   "cell_type": "code",
   "execution_count": 43,
   "metadata": {},
   "outputs": [],
   "source": [
    "model = word2vec.Word2Vec(split_word_list, min_count=1000)"
   ]
  },
  {
   "cell_type": "code",
   "execution_count": 41,
   "metadata": {},
   "outputs": [],
   "source": [
    "def tsne_plot(model):\n",
    "    \"Creates and TSNE model and plots it\"\n",
    "    labels = []\n",
    "    tokens = []\n",
    "\n",
    "    for word in model.wv.key_to_index:\n",
    "        tokens.append(model.wv[word])\n",
    "        labels.append(word)\n",
    "    \n",
    "    tokens = np.array(tokens)\n",
    "    labels = np.array(labels)\n",
    "    print(tokens.shape)\n",
    "    print(labels.shape)\n",
    "    tsne_model = TSNE(perplexity=40, n_components=2, init='pca', n_iter=2500, random_state=23)\n",
    "\n",
    "    new_values = tsne_model.fit_transform(tokens)\n",
    "\n",
    "    x = []\n",
    "    y = []\n",
    "    for value in new_values:\n",
    "        x.append(value[0])\n",
    "        y.append(value[1])\n",
    "        \n",
    "    plt.figure(figsize=(16, 16)) \n",
    "    for i in range(len(x)):\n",
    "        plt.scatter(x[i],y[i])\n",
    "        plt.annotate(labels[i],\n",
    "                     xy=(x[i], y[i]),\n",
    "                     xytext=(5, 2),\n",
    "                     textcoords='offset points',\n",
    "                     ha='right',\n",
    "                     va='bottom')\n",
    "    plt.show()"
   ]
  },
  {
   "cell_type": "code",
   "execution_count": 44,
   "metadata": {},
   "outputs": [
    {
     "name": "stdout",
     "output_type": "stream",
     "text": [
      "(4172, 100)\n",
      "(4172,)\n"
     ]
    }
   ],
   "source": [
    "\n",
    "tsne_plot(model)"
   ]
  }
 ],
 "metadata": {
  "kernelspec": {
   "display_name": "Python 3",
   "language": "python",
   "name": "python3"
  },
  "language_info": {
   "codemirror_mode": {
    "name": "ipython",
    "version": 3
   },
   "file_extension": ".py",
   "mimetype": "text/x-python",
   "name": "python",
   "nbconvert_exporter": "python",
   "pygments_lexer": "ipython3",
   "version": "3.12.2"
  }
 },
 "nbformat": 4,
 "nbformat_minor": 2
}
